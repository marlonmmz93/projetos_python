{
 "cells": [
  {
   "cell_type": "markdown",
   "id": "da6f5ea5",
   "metadata": {},
   "source": [
    "# O IMDb (Internet Movie Database) é uma das bases de dados mais abrangentes e populares sobre filmes, programas de televisão e celebridades."
   ]
  },
  {
   "cell_type": "markdown",
   "id": "64da0618",
   "metadata": {},
   "source": [
    "## Essa análise é uma combinação de análise de classificação, análise de categorização e análise estatística"
   ]
  },
  {
   "cell_type": "code",
   "execution_count": 22,
   "id": "50c4dfa1",
   "metadata": {},
   "outputs": [],
   "source": [
    "import pandas as pd"
   ]
  },
  {
   "cell_type": "code",
   "execution_count": 23,
   "id": "8ff4e806",
   "metadata": {},
   "outputs": [],
   "source": [
    "df = pd.read_csv('imdb_data.csv')"
   ]
  },
  {
   "cell_type": "markdown",
   "id": "0ed2403a",
   "metadata": {},
   "source": [
    "## importando os dados"
   ]
  },
  {
   "cell_type": "code",
   "execution_count": 24,
   "id": "6b1e292b",
   "metadata": {},
   "outputs": [
    {
     "data": {
      "text/html": [
       "<div>\n",
       "<style scoped>\n",
       "    .dataframe tbody tr th:only-of-type {\n",
       "        vertical-align: middle;\n",
       "    }\n",
       "\n",
       "    .dataframe tbody tr th {\n",
       "        vertical-align: top;\n",
       "    }\n",
       "\n",
       "    .dataframe thead th {\n",
       "        text-align: right;\n",
       "    }\n",
       "</style>\n",
       "<table border=\"1\" class=\"dataframe\">\n",
       "  <thead>\n",
       "    <tr style=\"text-align: right;\">\n",
       "      <th></th>\n",
       "      <th>id</th>\n",
       "      <th>primaryTitle</th>\n",
       "      <th>originalTitle</th>\n",
       "      <th>isAdult</th>\n",
       "      <th>runtimeMinutes</th>\n",
       "      <th>genres</th>\n",
       "      <th>averageRating</th>\n",
       "      <th>numVotes</th>\n",
       "      <th>budget</th>\n",
       "      <th>gross</th>\n",
       "      <th>release_date</th>\n",
       "      <th>directors</th>\n",
       "    </tr>\n",
       "  </thead>\n",
       "  <tbody>\n",
       "    <tr>\n",
       "      <th>0</th>\n",
       "      <td>tt0035423</td>\n",
       "      <td>Kate &amp; Leopold</td>\n",
       "      <td>Kate &amp; Leopold</td>\n",
       "      <td>0</td>\n",
       "      <td>118</td>\n",
       "      <td>Comedy,Fantasy,Romance</td>\n",
       "      <td>6.4</td>\n",
       "      <td>87925</td>\n",
       "      <td>48000000</td>\n",
       "      <td>76019048.0</td>\n",
       "      <td>December 11, 2001</td>\n",
       "      <td>James Mangold</td>\n",
       "    </tr>\n",
       "    <tr>\n",
       "      <th>1</th>\n",
       "      <td>tt0065421</td>\n",
       "      <td>The Aristocats</td>\n",
       "      <td>The AristoCats</td>\n",
       "      <td>0</td>\n",
       "      <td>78</td>\n",
       "      <td>Adventure,Animation,Comedy</td>\n",
       "      <td>7.1</td>\n",
       "      <td>111758</td>\n",
       "      <td>4000000</td>\n",
       "      <td>35459543.0</td>\n",
       "      <td>December 11, 1970</td>\n",
       "      <td>Wolfgang Reitherman</td>\n",
       "    </tr>\n",
       "    <tr>\n",
       "      <th>2</th>\n",
       "      <td>tt0065938</td>\n",
       "      <td>Kelly's Heroes</td>\n",
       "      <td>Kelly's Heroes</td>\n",
       "      <td>0</td>\n",
       "      <td>144</td>\n",
       "      <td>Adventure,Comedy,War</td>\n",
       "      <td>7.6</td>\n",
       "      <td>52628</td>\n",
       "      <td>4000000</td>\n",
       "      <td>5200000.0</td>\n",
       "      <td>January 1, 1970</td>\n",
       "      <td>Brian G. Hutton</td>\n",
       "    </tr>\n",
       "    <tr>\n",
       "      <th>3</th>\n",
       "      <td>tt0066026</td>\n",
       "      <td>M*A*S*H</td>\n",
       "      <td>M*A*S*H</td>\n",
       "      <td>0</td>\n",
       "      <td>116</td>\n",
       "      <td>Comedy,Drama,War</td>\n",
       "      <td>7.4</td>\n",
       "      <td>75784</td>\n",
       "      <td>3500000</td>\n",
       "      <td>81600000.0</td>\n",
       "      <td>January 25, 1970</td>\n",
       "      <td>Robert Altman</td>\n",
       "    </tr>\n",
       "    <tr>\n",
       "      <th>4</th>\n",
       "      <td>tt0066206</td>\n",
       "      <td>Patton</td>\n",
       "      <td>Patton</td>\n",
       "      <td>0</td>\n",
       "      <td>172</td>\n",
       "      <td>Biography,Drama,War</td>\n",
       "      <td>7.9</td>\n",
       "      <td>106476</td>\n",
       "      <td>12000000</td>\n",
       "      <td>61749765.0</td>\n",
       "      <td>February 4, 1970</td>\n",
       "      <td>Franklin J. Schaffner</td>\n",
       "    </tr>\n",
       "    <tr>\n",
       "      <th>...</th>\n",
       "      <td>...</td>\n",
       "      <td>...</td>\n",
       "      <td>...</td>\n",
       "      <td>...</td>\n",
       "      <td>...</td>\n",
       "      <td>...</td>\n",
       "      <td>...</td>\n",
       "      <td>...</td>\n",
       "      <td>...</td>\n",
       "      <td>...</td>\n",
       "      <td>...</td>\n",
       "      <td>...</td>\n",
       "    </tr>\n",
       "    <tr>\n",
       "      <th>3343</th>\n",
       "      <td>tt9770150</td>\n",
       "      <td>Nomadland</td>\n",
       "      <td>Nomadland</td>\n",
       "      <td>0</td>\n",
       "      <td>107</td>\n",
       "      <td>Drama</td>\n",
       "      <td>7.3</td>\n",
       "      <td>175977</td>\n",
       "      <td>5000000</td>\n",
       "      <td>39458207.0</td>\n",
       "      <td>September 11, 2020</td>\n",
       "      <td>Chloé Zhao</td>\n",
       "    </tr>\n",
       "    <tr>\n",
       "      <th>3344</th>\n",
       "      <td>tt9777666</td>\n",
       "      <td>The Tomorrow War</td>\n",
       "      <td>The Tomorrow War</td>\n",
       "      <td>0</td>\n",
       "      <td>138</td>\n",
       "      <td>Action,Adventure,Drama</td>\n",
       "      <td>6.6</td>\n",
       "      <td>220617</td>\n",
       "      <td>200000000</td>\n",
       "      <td>14400000.0</td>\n",
       "      <td>June 30, 2021</td>\n",
       "      <td>Chris McKay</td>\n",
       "    </tr>\n",
       "    <tr>\n",
       "      <th>3345</th>\n",
       "      <td>tt9784798</td>\n",
       "      <td>Judas and the Black Messiah</td>\n",
       "      <td>Judas and the Black Messiah</td>\n",
       "      <td>0</td>\n",
       "      <td>126</td>\n",
       "      <td>Biography,Drama,History</td>\n",
       "      <td>7.4</td>\n",
       "      <td>88568</td>\n",
       "      <td>26000000</td>\n",
       "      <td>7478009.0</td>\n",
       "      <td>February 1, 2021</td>\n",
       "      <td>Shaka King</td>\n",
       "    </tr>\n",
       "    <tr>\n",
       "      <th>3346</th>\n",
       "      <td>tt9844522</td>\n",
       "      <td>Escape Room: Tournament of Champions</td>\n",
       "      <td>Escape Room: Tournament of Champions</td>\n",
       "      <td>0</td>\n",
       "      <td>88</td>\n",
       "      <td>Action,Adventure,Horror</td>\n",
       "      <td>5.7</td>\n",
       "      <td>56955</td>\n",
       "      <td>15000000</td>\n",
       "      <td>65774490.0</td>\n",
       "      <td>July 1, 2021</td>\n",
       "      <td>Adam Robitel</td>\n",
       "    </tr>\n",
       "    <tr>\n",
       "      <th>3347</th>\n",
       "      <td>tt9893250</td>\n",
       "      <td>I Care a Lot</td>\n",
       "      <td>I Care a Lot</td>\n",
       "      <td>0</td>\n",
       "      <td>118</td>\n",
       "      <td>Comedy,Crime,Drama</td>\n",
       "      <td>6.4</td>\n",
       "      <td>141433</td>\n",
       "      <td>14000000</td>\n",
       "      <td>1351662.0</td>\n",
       "      <td>September 12, 2020</td>\n",
       "      <td>J Blakeson</td>\n",
       "    </tr>\n",
       "  </tbody>\n",
       "</table>\n",
       "<p>3348 rows × 12 columns</p>\n",
       "</div>"
      ],
      "text/plain": [
       "             id                          primaryTitle  \\\n",
       "0     tt0035423                        Kate & Leopold   \n",
       "1     tt0065421                        The Aristocats   \n",
       "2     tt0065938                        Kelly's Heroes   \n",
       "3     tt0066026                               M*A*S*H   \n",
       "4     tt0066206                                Patton   \n",
       "...         ...                                   ...   \n",
       "3343  tt9770150                             Nomadland   \n",
       "3344  tt9777666                      The Tomorrow War   \n",
       "3345  tt9784798           Judas and the Black Messiah   \n",
       "3346  tt9844522  Escape Room: Tournament of Champions   \n",
       "3347  tt9893250                          I Care a Lot   \n",
       "\n",
       "                             originalTitle  isAdult  runtimeMinutes  \\\n",
       "0                           Kate & Leopold        0             118   \n",
       "1                           The AristoCats        0              78   \n",
       "2                           Kelly's Heroes        0             144   \n",
       "3                                  M*A*S*H        0             116   \n",
       "4                                   Patton        0             172   \n",
       "...                                    ...      ...             ...   \n",
       "3343                             Nomadland        0             107   \n",
       "3344                      The Tomorrow War        0             138   \n",
       "3345           Judas and the Black Messiah        0             126   \n",
       "3346  Escape Room: Tournament of Champions        0              88   \n",
       "3347                          I Care a Lot        0             118   \n",
       "\n",
       "                          genres  averageRating  numVotes     budget  \\\n",
       "0         Comedy,Fantasy,Romance            6.4     87925   48000000   \n",
       "1     Adventure,Animation,Comedy            7.1    111758    4000000   \n",
       "2           Adventure,Comedy,War            7.6     52628    4000000   \n",
       "3               Comedy,Drama,War            7.4     75784    3500000   \n",
       "4            Biography,Drama,War            7.9    106476   12000000   \n",
       "...                          ...            ...       ...        ...   \n",
       "3343                       Drama            7.3    175977    5000000   \n",
       "3344      Action,Adventure,Drama            6.6    220617  200000000   \n",
       "3345     Biography,Drama,History            7.4     88568   26000000   \n",
       "3346     Action,Adventure,Horror            5.7     56955   15000000   \n",
       "3347          Comedy,Crime,Drama            6.4    141433   14000000   \n",
       "\n",
       "           gross        release_date              directors  \n",
       "0     76019048.0   December 11, 2001          James Mangold  \n",
       "1     35459543.0   December 11, 1970    Wolfgang Reitherman  \n",
       "2      5200000.0     January 1, 1970        Brian G. Hutton  \n",
       "3     81600000.0    January 25, 1970          Robert Altman  \n",
       "4     61749765.0    February 4, 1970  Franklin J. Schaffner  \n",
       "...          ...                 ...                    ...  \n",
       "3343  39458207.0  September 11, 2020             Chloé Zhao  \n",
       "3344  14400000.0       June 30, 2021            Chris McKay  \n",
       "3345   7478009.0    February 1, 2021             Shaka King  \n",
       "3346  65774490.0        July 1, 2021           Adam Robitel  \n",
       "3347   1351662.0  September 12, 2020             J Blakeson  \n",
       "\n",
       "[3348 rows x 12 columns]"
      ]
     },
     "metadata": {},
     "output_type": "display_data"
    }
   ],
   "source": [
    "display(df)"
   ]
  },
  {
   "cell_type": "markdown",
   "id": "48f85192",
   "metadata": {},
   "source": [
    "## analisando quantos gêneros de filmes existem na tabela"
   ]
  },
  {
   "cell_type": "code",
   "execution_count": 25,
   "id": "848d1b75",
   "metadata": {},
   "outputs": [],
   "source": [
    "contagem_resultados = len(df['genres'].value_counts())\n"
   ]
  },
  {
   "cell_type": "code",
   "execution_count": 26,
   "id": "56652536",
   "metadata": {},
   "outputs": [
    {
     "data": {
      "text/plain": [
       "287"
      ]
     },
     "metadata": {},
     "output_type": "display_data"
    }
   ],
   "source": [
    "display(contagem_resultados)"
   ]
  },
  {
   "cell_type": "markdown",
   "id": "383b3cef",
   "metadata": {},
   "source": [
    "### foram encontrados 286 gêneros de filmes nessa tabela."
   ]
  },
  {
   "cell_type": "code",
   "execution_count": 27,
   "id": "0ae63e62",
   "metadata": {},
   "outputs": [],
   "source": [
    "resultados_genre = df['genres'].unique()"
   ]
  },
  {
   "cell_type": "code",
   "execution_count": 28,
   "id": "6e9f9afd",
   "metadata": {},
   "outputs": [
    {
     "data": {
      "text/plain": [
       "array(['Comedy,Fantasy,Romance', 'Adventure,Animation,Comedy',\n",
       "       'Adventure,Comedy,War', 'Comedy,Drama,War', 'Biography,Drama,War',\n",
       "       'Drama,Sci-Fi,Thriller', 'Crime,Sci-Fi',\n",
       "       'Action,Adventure,Thriller', 'Action,Crime,Thriller',\n",
       "       'Action,Crime,Drama', 'Comedy,Drama,Romance', 'Drama,Romance',\n",
       "       'Crime,Drama,Thriller', 'Family,Fantasy,Musical',\n",
       "       'Action,Adventure,Biography', 'Drama,Music,Musical',\n",
       "       'Adventure,Drama,Thriller', 'Crime,Drama', 'Drama,Mystery,Western',\n",
       "       'Comedy,Drama', 'Drama,Horror,Mystery', 'Horror',\n",
       "       'Comedy,Crime,Drama', 'Biography,Crime,Drama',\n",
       "       'Crime,Mystery,Sci-Fi', 'Action,Drama,Sci-Fi',\n",
       "       'Horror,Mystery,Thriller', 'Comedy,Western',\n",
       "       'Drama,Mystery,Thriller', 'Comedy', 'Adventure,Drama,War',\n",
       "       'Adventure,Mystery,Thriller', 'Adventure,War', 'Drama',\n",
       "       'Comedy,Horror,Musical', 'Crime,Mystery,Thriller',\n",
       "       'Drama,History,Thriller', 'Horror,Mystery', 'Fantasy,Horror',\n",
       "       'Action,Adventure,Sci-Fi', 'Western', 'Drama,Sport',\n",
       "       'Comedy,Romance', 'Drama,History,War', 'Drama,Sci-Fi',\n",
       "       'Drama,Music', 'Action,Adventure,Comedy',\n",
       "       'Action,Adventure,Fantasy', 'Horror,Thriller', 'Drama,War',\n",
       "       'Comedy,Musical,Romance', 'Horror,Sci-Fi',\n",
       "       'Adventure,Horror,Thriller', 'Drama,Mystery,War',\n",
       "       'Adventure,Horror', 'Action,Biography,Crime',\n",
       "       'Adventure,Mystery,Sci-Fi', 'Adventure,Drama,Romance',\n",
       "       'Comedy,Sport', 'Biography,Drama', 'Adventure,Comedy',\n",
       "       'Biography,Drama,Sport', 'Drama,Horror',\n",
       "       'Adventure,Comedy,Fantasy', 'Comedy,Horror', 'Crime,Drama,Mystery',\n",
       "       'Adventure,Drama,Fantasy', 'Adventure,Animation,Drama',\n",
       "       'Comedy,History,Musical', 'Action,Adventure', 'Comedy,War',\n",
       "       'Action,Comedy,Crime', 'Comedy,Sci-Fi', 'Comedy,Fantasy,Horror',\n",
       "       'Adventure,Family,Fantasy', 'Adventure,Family,Sci-Fi',\n",
       "       'Biography,Drama,History', 'Horror,Mystery,Sci-Fi',\n",
       "       'Comedy,Family', 'Drama,Horror,Sci-Fi', 'Drama,Music,Romance',\n",
       "       'Comedy,Musical', 'Adventure,Biography,Drama',\n",
       "       'Horror,Sci-Fi,Thriller', 'Biography,Drama,Music',\n",
       "       'Action,Comedy,Fantasy', 'Action,Drama,Family',\n",
       "       'Adventure,Animation,Sci-Fi', 'Action,Drama,Thriller',\n",
       "       'Romance,Sci-Fi', 'Action,Sci-Fi', 'Comedy,Music',\n",
       "       'Comedy,Crime,Music', 'Adventure,Drama,Family',\n",
       "       'Adventure,Comedy,Sci-Fi', 'Comedy,Crime,Mystery',\n",
       "       'Comedy,Drama,Sci-Fi', 'Action,Adventure,Drama',\n",
       "       'Adventure,Comedy,Family', 'Adventure,Fantasy,Romance',\n",
       "       'Biography,Drama,Romance', 'Drama,Western', 'Action,Drama,War',\n",
       "       'Comedy,Horror,Sci-Fi', 'Comedy,Romance,Sci-Fi',\n",
       "       'Drama,Romance,Thriller', 'Adventure,Animation,Family',\n",
       "       'Action,Mystery,Thriller', 'Adventure,Drama,History',\n",
       "       'Comedy,Family,Sci-Fi', 'Adventure,Comedy,Drama', 'Action,Drama',\n",
       "       'Action,Biography,Drama', 'Drama,Thriller',\n",
       "       'Biography,Comedy,Drama', 'Action,Drama,Sport',\n",
       "       'Action,Adventure,Horror', 'Comedy,Crime', 'Action,Crime,Sci-Fi',\n",
       "       'Action,Sci-Fi,Thriller', 'Comedy,Drama,Family', 'Comedy,Fantasy',\n",
       "       'Comedy,Drama,Fantasy', 'Comedy,Romance,Sport',\n",
       "       'Drama,Horror,Thriller', 'Action,Thriller', 'Animation,Drama,War',\n",
       "       'Action,Horror,Sci-Fi', 'Animation,Comedy,Family',\n",
       "       'Adventure,Comedy,Crime', 'Action,Drama,Western',\n",
       "       'Comedy,Mystery,Thriller', 'Adventure,Drama,Mystery',\n",
       "       'Adventure,Comedy,Music', 'Drama,Family,Fantasy',\n",
       "       'Action,Sport,Thriller', 'Fantasy,Horror,Thriller',\n",
       "       'Comedy,Horror,Thriller', 'Adventure,Drama,Western',\n",
       "       'Drama,Fantasy,Romance', 'Action,Drama,Mystery',\n",
       "       'Comedy,Drama,Thriller', 'Animation,Family,Fantasy',\n",
       "       'Crime,Thriller', 'Comedy,Family,Romance', 'Action,Comedy',\n",
       "       'Action,Adventure,Family', 'Adventure,Crime,Drama',\n",
       "       'Action,Crime,Fantasy', 'Action,Drama,Music',\n",
       "       'Drama,Fantasy,Horror', 'Comedy,Drama,Sport',\n",
       "       'Comedy,Family,Music', 'Action,Adventure,Animation',\n",
       "       'Comedy,Family,Fantasy', 'Adventure,Comedy,Musical',\n",
       "       'Action,Adventure,Romance', 'Crime,Drama,Romance',\n",
       "       'Drama,Horror,Romance', 'Drama,Romance,War',\n",
       "       'Drama,Family,Romance', 'Action,Crime,Romance',\n",
       "       'Action,Adventure,Mystery', 'Action,Comedy,Thriller',\n",
       "       'Fantasy,Horror,Mystery', 'Comedy,Crime,Thriller',\n",
       "       'Action,Drama,Romance', 'Crime,Drama,Sci-Fi',\n",
       "       'Mystery,Sci-Fi,Thriller', 'Action,Crime,Horror',\n",
       "       'Animation,Drama,Family', 'Mystery,Thriller', 'Comedy,Drama,Music',\n",
       "       'Drama,Family,Sport', 'Drama,Mystery,Sci-Fi',\n",
       "       'Fantasy,Mystery,Sci-Fi', 'Drama,Fantasy,Mystery',\n",
       "       'Action,Adventure,Crime', 'Action,Mystery,Sci-Fi',\n",
       "       'Action,Adventure,History', 'Crime,Drama,Fantasy',\n",
       "       'Comedy,Music,Romance', 'Action,Horror,Thriller',\n",
       "       'Action,Comedy,Sci-Fi', 'Comedy,Crime,Romance',\n",
       "       'Biography,Drama,Family', 'Comedy,Drama,History',\n",
       "       'Action,Comedy,Horror', 'Biography,Drama,Thriller', 'Action,War',\n",
       "       'Crime,Drama,Horror', 'Action,Fantasy,Horror',\n",
       "       'Drama,Fantasy,Sport', 'Crime,Romance,Thriller',\n",
       "       'Animation,Comedy,Fantasy', 'Crime,Drama,Musical',\n",
       "       'Action,Crime,Mystery', 'Drama,Romance,Sci-Fi',\n",
       "       'Adventure,Sci-Fi,Thriller', 'Action,Drama,History',\n",
       "       'Drama,Musical,Romance', 'Crime,Horror,Sci-Fi',\n",
       "       'Drama,Mystery,Romance', 'Comedy,Mystery,Sci-Fi',\n",
       "       'Action,Fantasy,Thriller', 'Fantasy,Mystery,Romance',\n",
       "       'Biography,Comedy,Crime', 'Comedy,Drama,Mystery', 'Action,Crime',\n",
       "       'Crime,Horror,Thriller', 'Comedy,Crime,Musical',\n",
       "       'Crime,Documentary,Drama', 'Action,Comedy,Documentary',\n",
       "       'Action,Horror', 'Drama,History,Sport', 'Documentary,Drama,War',\n",
       "       'Adventure,Comedy,Mystery', 'Adventure,Drama,Horror',\n",
       "       'Drama,Romance,Sport', 'Drama,Fantasy,Thriller',\n",
       "       'Documentary,Drama', 'Drama,Thriller,War', 'Documentary',\n",
       "       'Action,Comedy,Drama', 'Comedy,Crime,Sport',\n",
       "       'Animation,Comedy,Crime', 'Action,Comedy,Family',\n",
       "       'Drama,Horror,Musical', 'Drama,Family,Musical',\n",
       "       'Crime,Drama,Western', 'Thriller', 'Comedy,Drama,Musical',\n",
       "       'Sci-Fi,Thriller', 'Documentary,Family', 'Drama,Fantasy,History',\n",
       "       'Drama,Fantasy,War', 'Comedy,Family,Sport', 'Comedy,Crime,Fantasy',\n",
       "       'Adventure,Biography,War', 'Crime,Drama,Music',\n",
       "       'Crime,Drama,History', 'Drama,Fantasy', 'Action,Drama,Horror',\n",
       "       'Drama,History', 'Documentary,News', 'Adventure,Drama',\n",
       "       'Animation,Biography,Drama', 'Comedy,Documentary,War',\n",
       "       'Adventure,Drama,Sci-Fi', 'Drama,Family', 'Action,Drama,Fantasy',\n",
       "       'Adventure,Fantasy', 'Drama,Mystery', 'Action,Comedy,War',\n",
       "       'Action,Animation,Comedy', 'Crime,Horror,Mystery',\n",
       "       'Action,Comedy,Romance', 'Adventure,Biography,Comedy',\n",
       "       'Animation,Comedy,Drama', 'Animation,Biography,Documentary',\n",
       "       'Action,Horror,Mystery', 'Action,Adventure,Western', 'Action',\n",
       "       'Comedy,Horror,Mystery', 'Drama,Fantasy,Music',\n",
       "       'Crime,Mystery,Romance', 'Drama,Fantasy,Sci-Fi',\n",
       "       'Drama,History,Romance', 'Action,Fantasy,Sci-Fi',\n",
       "       'Comedy,Thriller', 'Biography,Drama,Musical',\n",
       "       'Action,Thriller,Western', 'Comedy,Horror,Romance',\n",
       "       'Crime,Documentary', 'Action,Comedy,Sport', 'Documentary,Music',\n",
       "       'Mystery,Romance,Thriller', 'Action,Biography,Comedy',\n",
       "       'Crime,Fantasy,Horror', 'Comedy,Fantasy,Musical',\n",
       "       'Drama,Horror,Western', 'Crime,Drama,Family',\n",
       "       'Mystery,Romance,Sci-Fi', 'Adventure,Horror,Mystery',\n",
       "       'Action,Animation,Crime', 'Comedy,Fantasy,Music',\n",
       "       'Animation,Drama,Fantasy'], dtype=object)"
      ]
     },
     "metadata": {},
     "output_type": "display_data"
    }
   ],
   "source": [
    "display(resultados_genre)"
   ]
  },
  {
   "cell_type": "code",
   "execution_count": 29,
   "id": "02ede45a",
   "metadata": {},
   "outputs": [],
   "source": [
    "contagem_genre = df['genres'].value_counts()"
   ]
  },
  {
   "cell_type": "markdown",
   "id": "824be087",
   "metadata": {},
   "source": [
    "### analisando quais são os gêneros mais populares."
   ]
  },
  {
   "cell_type": "code",
   "execution_count": 30,
   "id": "4f596926",
   "metadata": {},
   "outputs": [],
   "source": [
    "mais_frequente = contagem_genre.idxmax()\n",
    "contagem_mais_frequente = contagem_genre.max()"
   ]
  },
  {
   "cell_type": "code",
   "execution_count": 31,
   "id": "38856739",
   "metadata": {},
   "outputs": [],
   "source": [
    "menos_frequente = contagem_genre.idxmin()\n",
    "contagem_menos_frequente = contagem_genre.min()"
   ]
  },
  {
   "cell_type": "code",
   "execution_count": 32,
   "id": "3624fd17",
   "metadata": {},
   "outputs": [
    {
     "name": "stdout",
     "output_type": "stream",
     "text": [
      "O gênero mais frequente é: Action,Adventure,Sci-Fi aparecendo 129 vezes.\n",
      "O gênero menos frequente é: Crime,Fantasy,Horror aparecendo 1 vezes.\n"
     ]
    }
   ],
   "source": [
    "print(\"O gênero mais frequente é:\", mais_frequente, \"aparecendo\", contagem_mais_frequente, \"vezes.\")\n",
    "print(\"O gênero menos frequente é:\", menos_frequente, \"aparecendo\", contagem_menos_frequente, \"vezes.\")"
   ]
  },
  {
   "cell_type": "markdown",
   "id": "33e7b9f2",
   "metadata": {},
   "source": [
    "### os gêneros Action,Adventure e Sci-Fi são os mais populares entre as notas do imdb aparecendo nos resultados 129 vezes."
   ]
  },
  {
   "cell_type": "markdown",
   "id": "8a6d95c5",
   "metadata": {},
   "source": [
    "## Descobrindo os filmes mais bem votados do imdb."
   ]
  },
  {
   "cell_type": "code",
   "execution_count": 33,
   "id": "4b62568e",
   "metadata": {},
   "outputs": [],
   "source": [
    "filmes_mais_bem_votados = df.sort_values(by='averageRating', ascending=False)[['primaryTitle', 'averageRating']].head(10)"
   ]
  },
  {
   "cell_type": "code",
   "execution_count": 34,
   "id": "40538a67",
   "metadata": {},
   "outputs": [
    {
     "data": {
      "text/html": [
       "<div>\n",
       "<style scoped>\n",
       "    .dataframe tbody tr th:only-of-type {\n",
       "        vertical-align: middle;\n",
       "    }\n",
       "\n",
       "    .dataframe tbody tr th {\n",
       "        vertical-align: top;\n",
       "    }\n",
       "\n",
       "    .dataframe thead th {\n",
       "        text-align: right;\n",
       "    }\n",
       "</style>\n",
       "<table border=\"1\" class=\"dataframe\">\n",
       "  <thead>\n",
       "    <tr style=\"text-align: right;\">\n",
       "      <th></th>\n",
       "      <th>primaryTitle</th>\n",
       "      <th>averageRating</th>\n",
       "    </tr>\n",
       "  </thead>\n",
       "  <tbody>\n",
       "    <tr>\n",
       "      <th>529</th>\n",
       "      <td>The Shawshank Redemption</td>\n",
       "      <td>9.3</td>\n",
       "    </tr>\n",
       "    <tr>\n",
       "      <th>17</th>\n",
       "      <td>The Godfather</td>\n",
       "      <td>9.2</td>\n",
       "    </tr>\n",
       "    <tr>\n",
       "      <th>1691</th>\n",
       "      <td>The Dark Knight</td>\n",
       "      <td>9.0</td>\n",
       "    </tr>\n",
       "    <tr>\n",
       "      <th>908</th>\n",
       "      <td>The Lord of the Rings: The Return of the King</td>\n",
       "      <td>9.0</td>\n",
       "    </tr>\n",
       "    <tr>\n",
       "      <th>488</th>\n",
       "      <td>Schindler's List</td>\n",
       "      <td>9.0</td>\n",
       "    </tr>\n",
       "    <tr>\n",
       "      <th>38</th>\n",
       "      <td>The Godfather Part II</td>\n",
       "      <td>9.0</td>\n",
       "    </tr>\n",
       "    <tr>\n",
       "      <th>523</th>\n",
       "      <td>Pulp Fiction</td>\n",
       "      <td>8.9</td>\n",
       "    </tr>\n",
       "    <tr>\n",
       "      <th>759</th>\n",
       "      <td>The Lord of the Rings: The Fellowship of the Ring</td>\n",
       "      <td>8.8</td>\n",
       "    </tr>\n",
       "    <tr>\n",
       "      <th>508</th>\n",
       "      <td>Forrest Gump</td>\n",
       "      <td>8.8</td>\n",
       "    </tr>\n",
       "    <tr>\n",
       "      <th>909</th>\n",
       "      <td>The Lord of the Rings: The Two Towers</td>\n",
       "      <td>8.8</td>\n",
       "    </tr>\n",
       "  </tbody>\n",
       "</table>\n",
       "</div>"
      ],
      "text/plain": [
       "                                           primaryTitle  averageRating\n",
       "529                            The Shawshank Redemption            9.3\n",
       "17                                        The Godfather            9.2\n",
       "1691                                    The Dark Knight            9.0\n",
       "908       The Lord of the Rings: The Return of the King            9.0\n",
       "488                                    Schindler's List            9.0\n",
       "38                                The Godfather Part II            9.0\n",
       "523                                        Pulp Fiction            8.9\n",
       "759   The Lord of the Rings: The Fellowship of the Ring            8.8\n",
       "508                                        Forrest Gump            8.8\n",
       "909               The Lord of the Rings: The Two Towers            8.8"
      ]
     },
     "metadata": {},
     "output_type": "display_data"
    }
   ],
   "source": [
    "display(filmes_mais_bem_votados)"
   ]
  },
  {
   "cell_type": "markdown",
   "id": "292c9b42",
   "metadata": {},
   "source": [
    "### o filme com a melhor nota do imdb até hoje foi  \"The Shawshank Redemption\" (Um Sonho de Liberdade) no Brasil, com nota de 9,3."
   ]
  },
  {
   "cell_type": "markdown",
   "id": "93e152ee",
   "metadata": {},
   "source": [
    "## Agora analiso os maiores orçamentos "
   ]
  },
  {
   "cell_type": "code",
   "execution_count": 35,
   "id": "54c12473",
   "metadata": {},
   "outputs": [],
   "source": [
    "filmes_maior_orcamento = df.sort_values(by='budget', ascending=False)[['primaryTitle', 'budget']].head(10)"
   ]
  },
  {
   "cell_type": "code",
   "execution_count": 36,
   "id": "4417acc3",
   "metadata": {},
   "outputs": [
    {
     "data": {
      "text/html": [
       "<div>\n",
       "<style scoped>\n",
       "    .dataframe tbody tr th:only-of-type {\n",
       "        vertical-align: middle;\n",
       "    }\n",
       "\n",
       "    .dataframe tbody tr th {\n",
       "        vertical-align: top;\n",
       "    }\n",
       "\n",
       "    .dataframe thead th {\n",
       "        text-align: right;\n",
       "    }\n",
       "</style>\n",
       "<table border=\"1\" class=\"dataframe\">\n",
       "  <thead>\n",
       "    <tr style=\"text-align: right;\">\n",
       "      <th></th>\n",
       "      <th>primaryTitle</th>\n",
       "      <th>budget</th>\n",
       "    </tr>\n",
       "  </thead>\n",
       "  <tbody>\n",
       "    <tr>\n",
       "      <th>3055</th>\n",
       "      <td>Avengers: Endgame</td>\n",
       "      <td>356000000</td>\n",
       "    </tr>\n",
       "    <tr>\n",
       "      <th>2514</th>\n",
       "      <td>Avatar: The Way of Water</td>\n",
       "      <td>350000000</td>\n",
       "    </tr>\n",
       "    <tr>\n",
       "      <th>3161</th>\n",
       "      <td>Fast X</td>\n",
       "      <td>340000000</td>\n",
       "    </tr>\n",
       "    <tr>\n",
       "      <th>3054</th>\n",
       "      <td>Avengers: Infinity War</td>\n",
       "      <td>321000000</td>\n",
       "    </tr>\n",
       "    <tr>\n",
       "      <th>2854</th>\n",
       "      <td>Star Wars: Episode VIII - The Last Jedi</td>\n",
       "      <td>317000000</td>\n",
       "    </tr>\n",
       "    <tr>\n",
       "      <th>2216</th>\n",
       "      <td>Zack Snyder's Justice League</td>\n",
       "      <td>300000000</td>\n",
       "    </tr>\n",
       "    <tr>\n",
       "      <th>1934</th>\n",
       "      <td>Justice League</td>\n",
       "      <td>300000000</td>\n",
       "    </tr>\n",
       "    <tr>\n",
       "      <th>1617</th>\n",
       "      <td>Pirates of the Caribbean: At World's End</td>\n",
       "      <td>300000000</td>\n",
       "    </tr>\n",
       "    <tr>\n",
       "      <th>2393</th>\n",
       "      <td>Indiana Jones and the Dial of Destiny</td>\n",
       "      <td>294700000</td>\n",
       "    </tr>\n",
       "    <tr>\n",
       "      <th>3337</th>\n",
       "      <td>Mission: Impossible - Dead Reckoning Part One</td>\n",
       "      <td>291000000</td>\n",
       "    </tr>\n",
       "  </tbody>\n",
       "</table>\n",
       "</div>"
      ],
      "text/plain": [
       "                                       primaryTitle     budget\n",
       "3055                              Avengers: Endgame  356000000\n",
       "2514                       Avatar: The Way of Water  350000000\n",
       "3161                                         Fast X  340000000\n",
       "3054                         Avengers: Infinity War  321000000\n",
       "2854        Star Wars: Episode VIII - The Last Jedi  317000000\n",
       "2216                   Zack Snyder's Justice League  300000000\n",
       "1934                                 Justice League  300000000\n",
       "1617       Pirates of the Caribbean: At World's End  300000000\n",
       "2393          Indiana Jones and the Dial of Destiny  294700000\n",
       "3337  Mission: Impossible - Dead Reckoning Part One  291000000"
      ]
     },
     "metadata": {},
     "output_type": "display_data"
    }
   ],
   "source": [
    "display(filmes_maior_orcamento)"
   ]
  },
  {
   "cell_type": "markdown",
   "id": "ff2e859f",
   "metadata": {},
   "source": [
    "### O filme que teve o maior orçamento foi Avengers: Endgame (Vingadores: Ultimato) com trezentos e cinquenta e seis milhões"
   ]
  },
  {
   "cell_type": "markdown",
   "id": "aa44fe99",
   "metadata": {},
   "source": [
    "## Analisando os orçamentos por gênero"
   ]
  },
  {
   "cell_type": "markdown",
   "id": "05cb7954",
   "metadata": {},
   "source": [
    "### Abaixo um gráfico mostrando a média de orçamentos por gênero."
   ]
  },
  {
   "cell_type": "code",
   "execution_count": 37,
   "id": "f2cd731d",
   "metadata": {},
   "outputs": [],
   "source": [
    "media_orcamento_por_genero = df.groupby('genres')['budget'].mean().reset_index()"
   ]
  },
  {
   "cell_type": "code",
   "execution_count": 38,
   "id": "4d878b0d",
   "metadata": {},
   "outputs": [],
   "source": [
    "import matplotlib.pyplot as plt"
   ]
  },
  {
   "cell_type": "code",
   "execution_count": 39,
   "id": "ddc3e900",
   "metadata": {},
   "outputs": [],
   "source": [
    "import seaborn as sns"
   ]
  },
  {
   "cell_type": "code",
   "execution_count": 40,
   "id": "d95a7991",
   "metadata": {},
   "outputs": [],
   "source": [
    "media_orcamento_por_genero = df.groupby('genres')['budget'].mean().reset_index()"
   ]
  },
  {
   "cell_type": "code",
   "execution_count": 41,
   "id": "01852fbb",
   "metadata": {},
   "outputs": [],
   "source": [
    "media_orcamento_por_genero = media_orcamento_por_genero.sort_values(by='budget', ascending=False).head(10)"
   ]
  },
  {
   "cell_type": "code",
   "execution_count": 42,
   "id": "e06a5059",
   "metadata": {},
   "outputs": [
    {
     "data": {
      "image/png": "[encoded data removed]",
      "text/plain": [
       "<Figure size 1000x600 with 1 Axes>"
      ]
     },
     "metadata": {},
     "output_type": "display_data"
    }
   ],
   "source": [
    "plt.figure(figsize=(10, 6))\n",
    "sns.barplot(x='genres', y='budget', data=media_orcamento_por_genero, palette='viridis')\n",
    "plt.xlabel('Gênero')\n",
    "plt.ylabel('Média de Orçamento')\n",
    "plt.title('Média de Orçamento dos 10 Maiores Gêneros')\n",
    "plt.xticks(rotation=45)  \n",
    "plt.tight_layout()\n",
    "plt.show()"
   ]
  }
 ],
 "metadata": {
  "kernelspec": {
   "display_name": "Python 3 (ipykernel)",
   "language": "python",
   "name": "python3"
  },
  "language_info": {
   "codemirror_mode": {
    "name": "ipython",
    "version": 3
   },
   "file_extension": ".py",
   "mimetype": "text/x-python",
   "name": "python",
   "nbconvert_exporter": "python",
   "pygments_lexer": "ipython3",
   "version": "3.11.5"
  }
 },
 "nbformat": 4,
 "nbformat_minor": 5
}
